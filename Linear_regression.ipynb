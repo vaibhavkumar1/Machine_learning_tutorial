{
 "cells": [
  {
   "cell_type": "code",
   "execution_count": 1,
   "metadata": {},
   "outputs": [],
   "source": [
    "import pandas as pd"
   ]
  },
  {
   "cell_type": "code",
   "execution_count": 2,
   "metadata": {},
   "outputs": [],
   "source": [
    "df=pd.read_csv(\"headbrain.csv\")"
   ]
  },
  {
   "cell_type": "code",
   "execution_count": 3,
   "metadata": {},
   "outputs": [
    {
     "data": {
      "text/html": [
       "<div>\n",
       "<style scoped>\n",
       "    .dataframe tbody tr th:only-of-type {\n",
       "        vertical-align: middle;\n",
       "    }\n",
       "\n",
       "    .dataframe tbody tr th {\n",
       "        vertical-align: top;\n",
       "    }\n",
       "\n",
       "    .dataframe thead th {\n",
       "        text-align: right;\n",
       "    }\n",
       "</style>\n",
       "<table border=\"1\" class=\"dataframe\">\n",
       "  <thead>\n",
       "    <tr style=\"text-align: right;\">\n",
       "      <th></th>\n",
       "      <th>Gender</th>\n",
       "      <th>Age Range</th>\n",
       "      <th>Head Size(cm^3)</th>\n",
       "      <th>Brain Weight(grams)</th>\n",
       "    </tr>\n",
       "  </thead>\n",
       "  <tbody>\n",
       "    <tr>\n",
       "      <th>0</th>\n",
       "      <td>1</td>\n",
       "      <td>1</td>\n",
       "      <td>4512</td>\n",
       "      <td>1530</td>\n",
       "    </tr>\n",
       "    <tr>\n",
       "      <th>1</th>\n",
       "      <td>1</td>\n",
       "      <td>1</td>\n",
       "      <td>3738</td>\n",
       "      <td>1297</td>\n",
       "    </tr>\n",
       "    <tr>\n",
       "      <th>2</th>\n",
       "      <td>1</td>\n",
       "      <td>1</td>\n",
       "      <td>4261</td>\n",
       "      <td>1335</td>\n",
       "    </tr>\n",
       "    <tr>\n",
       "      <th>3</th>\n",
       "      <td>1</td>\n",
       "      <td>1</td>\n",
       "      <td>3777</td>\n",
       "      <td>1282</td>\n",
       "    </tr>\n",
       "    <tr>\n",
       "      <th>4</th>\n",
       "      <td>1</td>\n",
       "      <td>1</td>\n",
       "      <td>4177</td>\n",
       "      <td>1590</td>\n",
       "    </tr>\n",
       "    <tr>\n",
       "      <th>5</th>\n",
       "      <td>1</td>\n",
       "      <td>1</td>\n",
       "      <td>3585</td>\n",
       "      <td>1300</td>\n",
       "    </tr>\n",
       "    <tr>\n",
       "      <th>6</th>\n",
       "      <td>1</td>\n",
       "      <td>1</td>\n",
       "      <td>3785</td>\n",
       "      <td>1400</td>\n",
       "    </tr>\n",
       "    <tr>\n",
       "      <th>7</th>\n",
       "      <td>1</td>\n",
       "      <td>1</td>\n",
       "      <td>3559</td>\n",
       "      <td>1255</td>\n",
       "    </tr>\n",
       "    <tr>\n",
       "      <th>8</th>\n",
       "      <td>1</td>\n",
       "      <td>1</td>\n",
       "      <td>3613</td>\n",
       "      <td>1355</td>\n",
       "    </tr>\n",
       "    <tr>\n",
       "      <th>9</th>\n",
       "      <td>1</td>\n",
       "      <td>1</td>\n",
       "      <td>3982</td>\n",
       "      <td>1375</td>\n",
       "    </tr>\n",
       "  </tbody>\n",
       "</table>\n",
       "</div>"
      ],
      "text/plain": [
       "   Gender  Age Range  Head Size(cm^3)  Brain Weight(grams)\n",
       "0       1          1             4512                 1530\n",
       "1       1          1             3738                 1297\n",
       "2       1          1             4261                 1335\n",
       "3       1          1             3777                 1282\n",
       "4       1          1             4177                 1590\n",
       "5       1          1             3585                 1300\n",
       "6       1          1             3785                 1400\n",
       "7       1          1             3559                 1255\n",
       "8       1          1             3613                 1355\n",
       "9       1          1             3982                 1375"
      ]
     },
     "execution_count": 3,
     "metadata": {},
     "output_type": "execute_result"
    }
   ],
   "source": [
    "df.head(10)"
   ]
  },
  {
   "cell_type": "code",
   "execution_count": 4,
   "metadata": {},
   "outputs": [
    {
     "name": "stdout",
     "output_type": "stream",
     "text": [
      "<class 'pandas.core.frame.DataFrame'>\n",
      "RangeIndex: 237 entries, 0 to 236\n",
      "Data columns (total 4 columns):\n",
      " #   Column               Non-Null Count  Dtype\n",
      "---  ------               --------------  -----\n",
      " 0   Gender               237 non-null    int64\n",
      " 1   Age Range            237 non-null    int64\n",
      " 2   Head Size(cm^3)      237 non-null    int64\n",
      " 3   Brain Weight(grams)  237 non-null    int64\n",
      "dtypes: int64(4)\n",
      "memory usage: 7.5 KB\n"
     ]
    }
   ],
   "source": [
    "df.info()"
   ]
  },
  {
   "cell_type": "code",
   "execution_count": 5,
   "metadata": {},
   "outputs": [
    {
     "data": {
      "text/html": [
       "<div>\n",
       "<style scoped>\n",
       "    .dataframe tbody tr th:only-of-type {\n",
       "        vertical-align: middle;\n",
       "    }\n",
       "\n",
       "    .dataframe tbody tr th {\n",
       "        vertical-align: top;\n",
       "    }\n",
       "\n",
       "    .dataframe thead th {\n",
       "        text-align: right;\n",
       "    }\n",
       "</style>\n",
       "<table border=\"1\" class=\"dataframe\">\n",
       "  <thead>\n",
       "    <tr style=\"text-align: right;\">\n",
       "      <th></th>\n",
       "      <th>Gender</th>\n",
       "      <th>Age Range</th>\n",
       "      <th>Head Size(cm^3)</th>\n",
       "      <th>Brain Weight(grams)</th>\n",
       "    </tr>\n",
       "  </thead>\n",
       "  <tbody>\n",
       "    <tr>\n",
       "      <th>0</th>\n",
       "      <td>False</td>\n",
       "      <td>False</td>\n",
       "      <td>False</td>\n",
       "      <td>False</td>\n",
       "    </tr>\n",
       "    <tr>\n",
       "      <th>1</th>\n",
       "      <td>False</td>\n",
       "      <td>False</td>\n",
       "      <td>False</td>\n",
       "      <td>False</td>\n",
       "    </tr>\n",
       "    <tr>\n",
       "      <th>2</th>\n",
       "      <td>False</td>\n",
       "      <td>False</td>\n",
       "      <td>False</td>\n",
       "      <td>False</td>\n",
       "    </tr>\n",
       "    <tr>\n",
       "      <th>3</th>\n",
       "      <td>False</td>\n",
       "      <td>False</td>\n",
       "      <td>False</td>\n",
       "      <td>False</td>\n",
       "    </tr>\n",
       "    <tr>\n",
       "      <th>4</th>\n",
       "      <td>False</td>\n",
       "      <td>False</td>\n",
       "      <td>False</td>\n",
       "      <td>False</td>\n",
       "    </tr>\n",
       "    <tr>\n",
       "      <th>...</th>\n",
       "      <td>...</td>\n",
       "      <td>...</td>\n",
       "      <td>...</td>\n",
       "      <td>...</td>\n",
       "    </tr>\n",
       "    <tr>\n",
       "      <th>232</th>\n",
       "      <td>False</td>\n",
       "      <td>False</td>\n",
       "      <td>False</td>\n",
       "      <td>False</td>\n",
       "    </tr>\n",
       "    <tr>\n",
       "      <th>233</th>\n",
       "      <td>False</td>\n",
       "      <td>False</td>\n",
       "      <td>False</td>\n",
       "      <td>False</td>\n",
       "    </tr>\n",
       "    <tr>\n",
       "      <th>234</th>\n",
       "      <td>False</td>\n",
       "      <td>False</td>\n",
       "      <td>False</td>\n",
       "      <td>False</td>\n",
       "    </tr>\n",
       "    <tr>\n",
       "      <th>235</th>\n",
       "      <td>False</td>\n",
       "      <td>False</td>\n",
       "      <td>False</td>\n",
       "      <td>False</td>\n",
       "    </tr>\n",
       "    <tr>\n",
       "      <th>236</th>\n",
       "      <td>False</td>\n",
       "      <td>False</td>\n",
       "      <td>False</td>\n",
       "      <td>False</td>\n",
       "    </tr>\n",
       "  </tbody>\n",
       "</table>\n",
       "<p>237 rows × 4 columns</p>\n",
       "</div>"
      ],
      "text/plain": [
       "     Gender  Age Range  Head Size(cm^3)  Brain Weight(grams)\n",
       "0     False      False            False                False\n",
       "1     False      False            False                False\n",
       "2     False      False            False                False\n",
       "3     False      False            False                False\n",
       "4     False      False            False                False\n",
       "..      ...        ...              ...                  ...\n",
       "232   False      False            False                False\n",
       "233   False      False            False                False\n",
       "234   False      False            False                False\n",
       "235   False      False            False                False\n",
       "236   False      False            False                False\n",
       "\n",
       "[237 rows x 4 columns]"
      ]
     },
     "execution_count": 5,
     "metadata": {},
     "output_type": "execute_result"
    }
   ],
   "source": [
    "df.isnull()"
   ]
  },
  {
   "cell_type": "code",
   "execution_count": 6,
   "metadata": {},
   "outputs": [
    {
     "data": {
      "text/plain": [
       "Gender                 0\n",
       "Age Range              0\n",
       "Head Size(cm^3)        0\n",
       "Brain Weight(grams)    0\n",
       "dtype: int64"
      ]
     },
     "execution_count": 6,
     "metadata": {},
     "output_type": "execute_result"
    }
   ],
   "source": [
    "df.isnull().sum()"
   ]
  },
  {
   "cell_type": "code",
   "execution_count": 8,
   "metadata": {},
   "outputs": [],
   "source": [
    "mean=df.mean()"
   ]
  },
  {
   "cell_type": "code",
   "execution_count": 9,
   "metadata": {},
   "outputs": [
    {
     "data": {
      "text/plain": [
       "Gender                    1.434599\n",
       "Age Range                 1.535865\n",
       "Head Size(cm^3)        3633.991561\n",
       "Brain Weight(grams)    1282.873418\n",
       "dtype: float64"
      ]
     },
     "execution_count": 9,
     "metadata": {},
     "output_type": "execute_result"
    }
   ],
   "source": [
    "mean"
   ]
  },
  {
   "cell_type": "code",
   "execution_count": 10,
   "metadata": {},
   "outputs": [
    {
     "data": {
      "text/html": [
       "<div>\n",
       "<style scoped>\n",
       "    .dataframe tbody tr th:only-of-type {\n",
       "        vertical-align: middle;\n",
       "    }\n",
       "\n",
       "    .dataframe tbody tr th {\n",
       "        vertical-align: top;\n",
       "    }\n",
       "\n",
       "    .dataframe thead th {\n",
       "        text-align: right;\n",
       "    }\n",
       "</style>\n",
       "<table border=\"1\" class=\"dataframe\">\n",
       "  <thead>\n",
       "    <tr style=\"text-align: right;\">\n",
       "      <th></th>\n",
       "      <th>Gender</th>\n",
       "      <th>Age Range</th>\n",
       "      <th>Head Size(cm^3)</th>\n",
       "      <th>Brain Weight(grams)</th>\n",
       "    </tr>\n",
       "  </thead>\n",
       "  <tbody>\n",
       "    <tr>\n",
       "      <th>227</th>\n",
       "      <td>2</td>\n",
       "      <td>2</td>\n",
       "      <td>4204</td>\n",
       "      <td>1380</td>\n",
       "    </tr>\n",
       "    <tr>\n",
       "      <th>228</th>\n",
       "      <td>2</td>\n",
       "      <td>2</td>\n",
       "      <td>3735</td>\n",
       "      <td>1350</td>\n",
       "    </tr>\n",
       "    <tr>\n",
       "      <th>229</th>\n",
       "      <td>2</td>\n",
       "      <td>2</td>\n",
       "      <td>3218</td>\n",
       "      <td>1060</td>\n",
       "    </tr>\n",
       "    <tr>\n",
       "      <th>230</th>\n",
       "      <td>2</td>\n",
       "      <td>2</td>\n",
       "      <td>3685</td>\n",
       "      <td>1350</td>\n",
       "    </tr>\n",
       "    <tr>\n",
       "      <th>231</th>\n",
       "      <td>2</td>\n",
       "      <td>2</td>\n",
       "      <td>3704</td>\n",
       "      <td>1220</td>\n",
       "    </tr>\n",
       "    <tr>\n",
       "      <th>232</th>\n",
       "      <td>2</td>\n",
       "      <td>2</td>\n",
       "      <td>3214</td>\n",
       "      <td>1110</td>\n",
       "    </tr>\n",
       "    <tr>\n",
       "      <th>233</th>\n",
       "      <td>2</td>\n",
       "      <td>2</td>\n",
       "      <td>3394</td>\n",
       "      <td>1215</td>\n",
       "    </tr>\n",
       "    <tr>\n",
       "      <th>234</th>\n",
       "      <td>2</td>\n",
       "      <td>2</td>\n",
       "      <td>3233</td>\n",
       "      <td>1104</td>\n",
       "    </tr>\n",
       "    <tr>\n",
       "      <th>235</th>\n",
       "      <td>2</td>\n",
       "      <td>2</td>\n",
       "      <td>3352</td>\n",
       "      <td>1170</td>\n",
       "    </tr>\n",
       "    <tr>\n",
       "      <th>236</th>\n",
       "      <td>2</td>\n",
       "      <td>2</td>\n",
       "      <td>3391</td>\n",
       "      <td>1120</td>\n",
       "    </tr>\n",
       "  </tbody>\n",
       "</table>\n",
       "</div>"
      ],
      "text/plain": [
       "     Gender  Age Range  Head Size(cm^3)  Brain Weight(grams)\n",
       "227       2          2             4204                 1380\n",
       "228       2          2             3735                 1350\n",
       "229       2          2             3218                 1060\n",
       "230       2          2             3685                 1350\n",
       "231       2          2             3704                 1220\n",
       "232       2          2             3214                 1110\n",
       "233       2          2             3394                 1215\n",
       "234       2          2             3233                 1104\n",
       "235       2          2             3352                 1170\n",
       "236       2          2             3391                 1120"
      ]
     },
     "execution_count": 10,
     "metadata": {},
     "output_type": "execute_result"
    }
   ],
   "source": [
    "df.tail(10)"
   ]
  },
  {
   "cell_type": "code",
   "execution_count": 26,
   "metadata": {},
   "outputs": [
    {
     "name": "stdout",
     "output_type": "stream",
     "text": [
      "[4512 3738 4261 3777 4177 3585 3785 3559 3613 3982 3443 3993 3640 4208\n",
      " 3832 3876 3497 3466 3095 4424 3878 4046 3804 3710 4747 4423 4036 4022\n",
      " 3454 4175 3787 3796 4103 4161 4158 3814 3527 3748 3334 3492 3962 3505\n",
      " 4315 3804 3863 4034 4308 3165 3641 3644 3891 3793 4270 4063 4012 3458\n",
      " 3890 4166 3935 3669 3866 3393 4442 4253 3727 3329 3415 3372 4430 4381\n",
      " 4008 3858 4121 4057 3824 3394 3558 3362 3930 3835 3830 3856 3249 3577\n",
      " 3933 3850 3309 3406 3506 3907 4160 3318 3662 3899 3700 3779 3473 3490\n",
      " 3654 3478 3495 3834 3876 3661 3618 3648 4032 3399 3916 4430 3695 3524\n",
      " 3571 3594 3383 3499 3589 3900 4114 3937 3399 4200 4488 3614 4051 3782\n",
      " 3391 3124 4053 3582 3666 3532 4046 3667 2857 3436 3791 3302 3104 3171\n",
      " 3572 3530 3175 3438 3903 3899 3401 3267 3451 3090 3413 3323 3680 3439\n",
      " 3853 3156 3279 3707 4006 3269 3071 3779 3548 3292 3497 3082 3248 3358\n",
      " 3803 3566 3145 3503 3571 3724 3615 3203 3609 3561 3979 3533 3689 3158\n",
      " 4005 3181 3479 3642 3632 3069 3394 3703 3165 3354 3000 3687 3556 2773\n",
      " 3058 3344 3493 3297 3360 3228 3277 3851 3067 3692 3402 3995 3318 2720\n",
      " 2937 3580 2939 2989 3586 3156 3246 3170 3268 3389 3381 2864 3740 3479\n",
      " 3647 3716 3284 4204 3735 3218 3685 3704 3214 3394 3233 3352 3391]\n"
     ]
    }
   ],
   "source": [
    "x=df['Head Size(cm^3)'].values\n",
    "y=df['Brain Weight(grams)'].values\n",
    "\n",
    "x.shape\n",
    "print(x)"
   ]
  },
  {
   "cell_type": "code",
   "execution_count": 20,
   "metadata": {},
   "outputs": [
    {
     "data": {
      "text/plain": [
       "(237,)"
      ]
     },
     "execution_count": 20,
     "metadata": {},
     "output_type": "execute_result"
    }
   ],
   "source": [
    "y.shape"
   ]
  },
  {
   "cell_type": "code",
   "execution_count": 21,
   "metadata": {},
   "outputs": [],
   "source": [
    "m=len(df)\n",
    "X=x.reshape(m,1)\n",
    "Y=y.reshape(m,1)"
   ]
  },
  {
   "cell_type": "code",
   "execution_count": 22,
   "metadata": {},
   "outputs": [
    {
     "data": {
      "text/plain": [
       "(237, 1)"
      ]
     },
     "execution_count": 22,
     "metadata": {},
     "output_type": "execute_result"
    }
   ],
   "source": [
    "X.shape"
   ]
  },
  {
   "cell_type": "code",
   "execution_count": 28,
   "metadata": {},
   "outputs": [],
   "source": [
    "from sklearn.model_selection import train_test_split\n",
    "\n",
    "X_train,X_test,Y_train,Y_test=train_test_split(X,Y,test_size=0.2)"
   ]
  },
  {
   "cell_type": "code",
   "execution_count": 34,
   "metadata": {},
   "outputs": [
    {
     "data": {
      "text/plain": [
       "(48, 1)"
      ]
     },
     "execution_count": 34,
     "metadata": {},
     "output_type": "execute_result"
    }
   ],
   "source": [
    "Y_test.shape"
   ]
  },
  {
   "cell_type": "code",
   "execution_count": 35,
   "metadata": {},
   "outputs": [
    {
     "data": {
      "text/plain": [
       "LinearRegression(copy_X=True, fit_intercept=True, n_jobs=None, normalize=False)"
      ]
     },
     "execution_count": 35,
     "metadata": {},
     "output_type": "execute_result"
    }
   ],
   "source": [
    "from sklearn.linear_model import LinearRegression\n",
    "\n",
    "lr=LinearRegression()\n",
    "lr.fit(X_train,Y_train)"
   ]
  },
  {
   "cell_type": "code",
   "execution_count": 36,
   "metadata": {},
   "outputs": [
    {
     "data": {
      "text/plain": [
       "array([[0.25643826]])"
      ]
     },
     "execution_count": 36,
     "metadata": {},
     "output_type": "execute_result"
    }
   ],
   "source": [
    "lr.coef_"
   ]
  },
  {
   "cell_type": "code",
   "execution_count": 37,
   "metadata": {},
   "outputs": [
    {
     "data": {
      "text/plain": [
       "array([353.19193444])"
      ]
     },
     "execution_count": 37,
     "metadata": {},
     "output_type": "execute_result"
    }
   ],
   "source": [
    "lr.intercept_"
   ]
  },
  {
   "cell_type": "code",
   "execution_count": 40,
   "metadata": {},
   "outputs": [
    {
     "data": {
      "text/plain": [
       "array([3876], dtype=int64)"
      ]
     },
     "execution_count": 40,
     "metadata": {},
     "output_type": "execute_result"
    }
   ],
   "source": [
    "X_test[0,:]"
   ]
  },
  {
   "cell_type": "code",
   "execution_count": 42,
   "metadata": {},
   "outputs": [
    {
     "data": {
      "text/plain": [
       "array([[1347.14664169]])"
      ]
     },
     "execution_count": 42,
     "metadata": {},
     "output_type": "execute_result"
    }
   ],
   "source": [
    "lr.predict([X_test[0,:]])"
   ]
  },
  {
   "cell_type": "code",
   "execution_count": 46,
   "metadata": {},
   "outputs": [
    {
     "data": {
      "text/html": [
       "<div>\n",
       "<style scoped>\n",
       "    .dataframe tbody tr th:only-of-type {\n",
       "        vertical-align: middle;\n",
       "    }\n",
       "\n",
       "    .dataframe tbody tr th {\n",
       "        vertical-align: top;\n",
       "    }\n",
       "\n",
       "    .dataframe thead th {\n",
       "        text-align: right;\n",
       "    }\n",
       "</style>\n",
       "<table border=\"1\" class=\"dataframe\">\n",
       "  <thead>\n",
       "    <tr style=\"text-align: right;\">\n",
       "      <th></th>\n",
       "      <th>Gender</th>\n",
       "      <th>Age Range</th>\n",
       "      <th>Head Size(cm^3)</th>\n",
       "      <th>Brain Weight(grams)</th>\n",
       "    </tr>\n",
       "  </thead>\n",
       "  <tbody>\n",
       "    <tr>\n",
       "      <th>0</th>\n",
       "      <td>1</td>\n",
       "      <td>1</td>\n",
       "      <td>4512</td>\n",
       "      <td>1530</td>\n",
       "    </tr>\n",
       "    <tr>\n",
       "      <th>1</th>\n",
       "      <td>1</td>\n",
       "      <td>1</td>\n",
       "      <td>3738</td>\n",
       "      <td>1297</td>\n",
       "    </tr>\n",
       "    <tr>\n",
       "      <th>2</th>\n",
       "      <td>1</td>\n",
       "      <td>1</td>\n",
       "      <td>4261</td>\n",
       "      <td>1335</td>\n",
       "    </tr>\n",
       "    <tr>\n",
       "      <th>3</th>\n",
       "      <td>1</td>\n",
       "      <td>1</td>\n",
       "      <td>3777</td>\n",
       "      <td>1282</td>\n",
       "    </tr>\n",
       "    <tr>\n",
       "      <th>4</th>\n",
       "      <td>1</td>\n",
       "      <td>1</td>\n",
       "      <td>4177</td>\n",
       "      <td>1590</td>\n",
       "    </tr>\n",
       "  </tbody>\n",
       "</table>\n",
       "</div>"
      ],
      "text/plain": [
       "   Gender  Age Range  Head Size(cm^3)  Brain Weight(grams)\n",
       "0       1          1             4512                 1530\n",
       "1       1          1             3738                 1297\n",
       "2       1          1             4261                 1335\n",
       "3       1          1             3777                 1282\n",
       "4       1          1             4177                 1590"
      ]
     },
     "execution_count": 46,
     "metadata": {},
     "output_type": "execute_result"
    }
   ],
   "source": [
    "df.head()"
   ]
  },
  {
   "cell_type": "code",
   "execution_count": 52,
   "metadata": {},
   "outputs": [
    {
     "data": {
      "text/plain": [
       "array([[760.41589603]])"
      ]
     },
     "execution_count": 52,
     "metadata": {},
     "output_type": "execute_result"
    }
   ],
   "source": [
    "lr.predict([Y_test[0,:]])"
   ]
  },
  {
   "cell_type": "code",
   "execution_count": 54,
   "metadata": {},
   "outputs": [
    {
     "data": {
      "text/plain": [
       "array([[1588],\n",
       "       [1080],\n",
       "       [1103],\n",
       "       [1405],\n",
       "       [1235],\n",
       "       [1095],\n",
       "       [1195],\n",
       "       [1190],\n",
       "       [1175],\n",
       "       [1355],\n",
       "       [1236],\n",
       "       [1335],\n",
       "       [1400],\n",
       "       [1415],\n",
       "       [1170],\n",
       "       [1022],\n",
       "       [1280],\n",
       "       [1256],\n",
       "       [1100],\n",
       "       [1400],\n",
       "       [1408],\n",
       "       [1165],\n",
       "       [1302],\n",
       "       [1340],\n",
       "       [1105],\n",
       "       [1306],\n",
       "       [1188],\n",
       "       [1240],\n",
       "       [1290],\n",
       "       [1127],\n",
       "       [1295],\n",
       "       [1027],\n",
       "       [1350],\n",
       "       [1405],\n",
       "       [1220],\n",
       "       [1242],\n",
       "       [1255],\n",
       "       [1305],\n",
       "       [1522],\n",
       "       [1350],\n",
       "       [1127],\n",
       "       [1635],\n",
       "       [1350],\n",
       "       [1355],\n",
       "       [1240],\n",
       "       [1316],\n",
       "       [1170],\n",
       "       [1240]], dtype=int64)"
      ]
     },
     "execution_count": 54,
     "metadata": {},
     "output_type": "execute_result"
    }
   ],
   "source": [
    "Y_test"
   ]
  },
  {
   "cell_type": "code",
   "execution_count": 57,
   "metadata": {},
   "outputs": [
    {
     "data": {
      "text/plain": [
       "array([[1347.14664169],\n",
       "       [1149.17630268],\n",
       "       [1245.3406513 ],\n",
       "       [1340.73568512],\n",
       "       [1234.31380599],\n",
       "       [1214.824498  ],\n",
       "       [1223.54339894],\n",
       "       [1214.31162148],\n",
       "       [1168.92204893],\n",
       "       [1298.67980999],\n",
       "       [1208.15710317],\n",
       "       [1448.1833173 ],\n",
       "       [1382.02224546],\n",
       "       [1344.58225906],\n",
       "       [1212.7729919 ],\n",
       "       [1140.20096348],\n",
       "       [1380.22717761],\n",
       "       [1430.23263889],\n",
       "       [1163.02396888],\n",
       "       [1323.81075976],\n",
       "       [1288.42227947],\n",
       "       [1154.30506794],\n",
       "       [1380.48361588],\n",
       "       [1238.16037993],\n",
       "       [1193.54012218],\n",
       "       [1392.02333771],\n",
       "       [1215.33737453],\n",
       "       [1243.80202172],\n",
       "       [1302.01350741],\n",
       "       [1166.3576663 ],\n",
       "       [1268.93297149],\n",
       "       [1085.83605173],\n",
       "       [1298.16693347],\n",
       "       [1420.23154664],\n",
       "       [1225.59490505],\n",
       "       [1290.21734731],\n",
       "       [1265.85571233],\n",
       "       [1299.96200131],\n",
       "       [1432.284145  ],\n",
       "       [1369.20033231],\n",
       "       [1266.36858886],\n",
       "       [1570.50436873],\n",
       "       [1302.7828222 ],\n",
       "       [1279.70337853],\n",
       "       [1248.93078698],\n",
       "       [1268.93297149],\n",
       "       [1162.51109236],\n",
       "       [1333.81185202]])"
      ]
     },
     "execution_count": 57,
     "metadata": {},
     "output_type": "execute_result"
    }
   ],
   "source": [
    "lr.predict(X_test)"
   ]
  },
  {
   "cell_type": "code",
   "execution_count": 60,
   "metadata": {},
   "outputs": [
    {
     "data": {
      "text/plain": [
       "array([[1588],\n",
       "       [1080],\n",
       "       [1103],\n",
       "       [1405],\n",
       "       [1235],\n",
       "       [1095],\n",
       "       [1195],\n",
       "       [1190],\n",
       "       [1175],\n",
       "       [1355],\n",
       "       [1236],\n",
       "       [1335],\n",
       "       [1400],\n",
       "       [1415],\n",
       "       [1170],\n",
       "       [1022],\n",
       "       [1280],\n",
       "       [1256],\n",
       "       [1100],\n",
       "       [1400],\n",
       "       [1408],\n",
       "       [1165],\n",
       "       [1302],\n",
       "       [1340],\n",
       "       [1105],\n",
       "       [1306],\n",
       "       [1188],\n",
       "       [1240],\n",
       "       [1290],\n",
       "       [1127],\n",
       "       [1295],\n",
       "       [1027],\n",
       "       [1350],\n",
       "       [1405],\n",
       "       [1220],\n",
       "       [1242],\n",
       "       [1255],\n",
       "       [1305],\n",
       "       [1522],\n",
       "       [1350],\n",
       "       [1127],\n",
       "       [1635],\n",
       "       [1350],\n",
       "       [1355],\n",
       "       [1240],\n",
       "       [1316],\n",
       "       [1170],\n",
       "       [1240]], dtype=int64)"
      ]
     },
     "execution_count": 60,
     "metadata": {},
     "output_type": "execute_result"
    }
   ],
   "source": [
    "Y_test"
   ]
  },
  {
   "cell_type": "code",
   "execution_count": 62,
   "metadata": {},
   "outputs": [
    {
     "data": {
      "text/plain": [
       "0.6414651705357488"
      ]
     },
     "execution_count": 62,
     "metadata": {},
     "output_type": "execute_result"
    }
   ],
   "source": [
    "lr.score(X_test,Y_test)"
   ]
  },
  {
   "cell_type": "code",
   "execution_count": 86,
   "metadata": {},
   "outputs": [
    {
     "data": {
      "text/plain": [
       "[<matplotlib.lines.Line2D at 0x277917d8e48>]"
      ]
     },
     "execution_count": 86,
     "metadata": {},
     "output_type": "execute_result"
    },
    {
     "data": {
      "image/png": "[encoded data removed]",
      "text/plain": [
       "<Figure size 432x288 with 1 Axes>"
      ]
     },
     "metadata": {
      "needs_background": "light"
     },
     "output_type": "display_data"
    }
   ],
   "source": [
    "import matplotlib.pyplot as plt\n",
    "x_score=lr.predict(X_train)\n",
    "y_score=lr.predict(Y_train)\n",
    "plt.scatter(X_train, Y_train, color='black')\n",
    "plt.plot(X_test, lr.predict(X_test))\n",
    "plt.xlabel()"
   ]
  },
  {
   "cell_type": "markdown",
   "metadata": {},
   "source": [
    "# Implenting ridge and lasso regression"
   ]
  },
  {
   "cell_type": "code",
   "execution_count": 67,
   "metadata": {},
   "outputs": [],
   "source": [
    "from sklearn.linear_model import Ridge,Lasso"
   ]
  },
  {
   "cell_type": "code",
   "execution_count": 75,
   "metadata": {},
   "outputs": [
    {
     "data": {
      "text/plain": [
       "0.6414651650418838"
      ]
     },
     "execution_count": 75,
     "metadata": {},
     "output_type": "execute_result"
    }
   ],
   "source": [
    "rd=Ridge()\n",
    "la=Lasso()\n",
    "\n",
    "rd.fit(X_train,Y_train)\n",
    "\n",
    "rd.score(X_test,Y_test)"
   ]
  },
  {
   "cell_type": "code",
   "execution_count": 76,
   "metadata": {},
   "outputs": [
    {
     "data": {
      "text/plain": [
       "0.6414611209906771"
      ]
     },
     "execution_count": 76,
     "metadata": {},
     "output_type": "execute_result"
    }
   ],
   "source": [
    "la.fit(X_train,Y_train)\n",
    "\n",
    "la.score(X_test,Y_test)"
   ]
  },
  {
   "cell_type": "code",
   "execution_count": 77,
   "metadata": {},
   "outputs": [
    {
     "data": {
      "text/plain": [
       "0.6414651650418838"
      ]
     },
     "execution_count": 77,
     "metadata": {},
     "output_type": "execute_result"
    }
   ],
   "source": [
    "la=Lasso(1000)\n",
    "\n",
    "rd.fit(X_train,Y_train)\n",
    "\n",
    "rd.score(X_test,Y_test)"
   ]
  },
  {
   "cell_type": "code",
   "execution_count": 87,
   "metadata": {},
   "outputs": [
    {
     "data": {
      "text/plain": [
       "[<matplotlib.lines.Line2D at 0x277919379c8>]"
      ]
     },
     "execution_count": 87,
     "metadata": {},
     "output_type": "execute_result"
    },
    {
     "data": {
      "image/png": "[encoded data removed]",
      "text/plain": [
       "<Figure size 432x288 with 1 Axes>"
      ]
     },
     "metadata": {
      "needs_background": "light"
     },
     "output_type": "display_data"
    }
   ],
   "source": [
    "plt.scatter(X_train, Y_train, color='black')\n",
    "plt.plot(X_test, rd.predict(X_test))"
   ]
  },
  {
   "cell_type": "code",
   "execution_count": 90,
   "metadata": {},
   "outputs": [
    {
     "data": {
      "text/plain": [
       "[<matplotlib.lines.Line2D at 0x27791acb988>]"
      ]
     },
     "execution_count": 90,
     "metadata": {},
     "output_type": "execute_result"
    },
    {
     "data": {
      "image/png": "[encoded data removed]",
      "text/plain": [
       "<Figure size 432x288 with 1 Axes>"
      ]
     },
     "metadata": {
      "needs_background": "light"
     },
     "output_type": "display_data"
    }
   ],
   "source": [
    "la.fit(X_train,Y_train)\n",
    "plt.scatter(X_train, Y_train, color='black')\n",
    "plt.plot(X_test, la.predict(X_test))"
   ]
  },
  {
   "cell_type": "markdown",
   "metadata": {},
   "source": [
    "# Model evalution"
   ]
  },
  {
   "cell_type": "code",
   "execution_count": 91,
   "metadata": {},
   "outputs": [
    {
     "data": {
      "text/plain": [
       "array([[1347.14664169],\n",
       "       [1149.17630268],\n",
       "       [1245.3406513 ],\n",
       "       [1340.73568512],\n",
       "       [1234.31380599],\n",
       "       [1214.824498  ],\n",
       "       [1223.54339894],\n",
       "       [1214.31162148],\n",
       "       [1168.92204893],\n",
       "       [1298.67980999],\n",
       "       [1208.15710317],\n",
       "       [1448.1833173 ],\n",
       "       [1382.02224546],\n",
       "       [1344.58225906],\n",
       "       [1212.7729919 ],\n",
       "       [1140.20096348],\n",
       "       [1380.22717761],\n",
       "       [1430.23263889],\n",
       "       [1163.02396888],\n",
       "       [1323.81075976],\n",
       "       [1288.42227947],\n",
       "       [1154.30506794],\n",
       "       [1380.48361588],\n",
       "       [1238.16037993],\n",
       "       [1193.54012218],\n",
       "       [1392.02333771],\n",
       "       [1215.33737453],\n",
       "       [1243.80202172],\n",
       "       [1302.01350741],\n",
       "       [1166.3576663 ],\n",
       "       [1268.93297149],\n",
       "       [1085.83605173],\n",
       "       [1298.16693347],\n",
       "       [1420.23154664],\n",
       "       [1225.59490505],\n",
       "       [1290.21734731],\n",
       "       [1265.85571233],\n",
       "       [1299.96200131],\n",
       "       [1432.284145  ],\n",
       "       [1369.20033231],\n",
       "       [1266.36858886],\n",
       "       [1570.50436873],\n",
       "       [1302.7828222 ],\n",
       "       [1279.70337853],\n",
       "       [1248.93078698],\n",
       "       [1268.93297149],\n",
       "       [1162.51109236],\n",
       "       [1333.81185202]])"
      ]
     },
     "execution_count": 91,
     "metadata": {},
     "output_type": "execute_result"
    }
   ],
   "source": [
    "y_predict=lr.predict(X_test)\n",
    "y_predict"
   ]
  },
  {
   "cell_type": "code",
   "execution_count": 92,
   "metadata": {},
   "outputs": [
    {
     "data": {
      "text/plain": [
       "array([[1588],\n",
       "       [1080],\n",
       "       [1103],\n",
       "       [1405],\n",
       "       [1235],\n",
       "       [1095],\n",
       "       [1195],\n",
       "       [1190],\n",
       "       [1175],\n",
       "       [1355],\n",
       "       [1236],\n",
       "       [1335],\n",
       "       [1400],\n",
       "       [1415],\n",
       "       [1170],\n",
       "       [1022],\n",
       "       [1280],\n",
       "       [1256],\n",
       "       [1100],\n",
       "       [1400],\n",
       "       [1408],\n",
       "       [1165],\n",
       "       [1302],\n",
       "       [1340],\n",
       "       [1105],\n",
       "       [1306],\n",
       "       [1188],\n",
       "       [1240],\n",
       "       [1290],\n",
       "       [1127],\n",
       "       [1295],\n",
       "       [1027],\n",
       "       [1350],\n",
       "       [1405],\n",
       "       [1220],\n",
       "       [1242],\n",
       "       [1255],\n",
       "       [1305],\n",
       "       [1522],\n",
       "       [1350],\n",
       "       [1127],\n",
       "       [1635],\n",
       "       [1350],\n",
       "       [1355],\n",
       "       [1240],\n",
       "       [1316],\n",
       "       [1170],\n",
       "       [1240]], dtype=int64)"
      ]
     },
     "execution_count": 92,
     "metadata": {},
     "output_type": "execute_result"
    }
   ],
   "source": [
    "Y_test"
   ]
  },
  {
   "cell_type": "code",
   "execution_count": 93,
   "metadata": {},
   "outputs": [],
   "source": [
    "from sklearn.metrics import mean_squared_error\n",
    "import numpy as np"
   ]
  },
  {
   "cell_type": "code",
   "execution_count": 96,
   "metadata": {},
   "outputs": [
    {
     "name": "stdout",
     "output_type": "stream",
     "text": [
      "mean squre error- 5523010.355782487\n",
      "root mean squre error- 2350.1085838280937\n"
     ]
    }
   ],
   "source": [
    "mse=mean_squared_error(X_test,lr.predict(X_test))\n",
    "rmse=np.sqrt(mse)\n",
    "\n",
    "print(\"mean squre error-\",mse)\n",
    "print(\"root mean squre error-\",rmse)"
   ]
  },
  {
   "cell_type": "code",
   "execution_count": null,
   "metadata": {},
   "outputs": [],
   "source": []
  }
 ],
 "metadata": {
  "kernelspec": {
   "display_name": "Python 3",
   "language": "python",
   "name": "python3"
  },
  "language_info": {
   "codemirror_mode": {
    "name": "ipython",
    "version": 3
   },
   "file_extension": ".py",
   "mimetype": "text/x-python",
   "name": "python",
   "nbconvert_exporter": "python",
   "pygments_lexer": "ipython3",
   "version": "3.7.6"
  }
 },
 "nbformat": 4,
 "nbformat_minor": 4
}
